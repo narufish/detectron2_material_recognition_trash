{
 "cells": [
  {
   "cell_type": "code",
   "execution_count": 5,
   "id": "4b64d7c7",
   "metadata": {},
   "outputs": [],
   "source": [
    "from detectron2.engine import DefaultPredictor\n",
    "from detectron2.config import get_cfg\n",
    "from detectron2.data import MetadataCatalog\n",
    "from detectron2.utils.visualizer import ColorMode, Visualizer\n",
    "from detectron2 import model_zoo\n",
    "\n",
    "import cv2\n",
    "import numpy as np\n",
    "import os\n",
    "os.environ['KMP_DUPLICATE_LIB_OK']='True'"
   ]
  },
  {
   "cell_type": "markdown",
   "id": "52165f94",
   "metadata": {},
   "source": [
    "### Check versions"
   ]
  },
  {
   "cell_type": "code",
   "execution_count": 2,
   "id": "46452bf0",
   "metadata": {},
   "outputs": [],
   "source": [
    "import torch"
   ]
  },
  {
   "cell_type": "code",
   "execution_count": 3,
   "id": "f31f65d6",
   "metadata": {},
   "outputs": [
    {
     "name": "stdout",
     "output_type": "stream",
     "text": [
      "1.12.0+cu113\n"
     ]
    }
   ],
   "source": [
    "print(torch.__version__)"
   ]
  },
  {
   "cell_type": "code",
   "execution_count": 4,
   "id": "2c3c992f",
   "metadata": {},
   "outputs": [
    {
     "data": {
      "text/plain": [
       "True"
      ]
     },
     "execution_count": 4,
     "metadata": {},
     "output_type": "execute_result"
    }
   ],
   "source": [
    "torch.cuda.is_available()"
   ]
  },
  {
   "cell_type": "code",
   "execution_count": 5,
   "id": "75ffce84",
   "metadata": {},
   "outputs": [
    {
     "name": "stdout",
     "output_type": "stream",
     "text": [
      "11.3\n"
     ]
    }
   ],
   "source": [
    "print(torch.version.cuda)"
   ]
  },
  {
   "cell_type": "markdown",
   "id": "118820c2",
   "metadata": {},
   "source": [
    "### Create Detector"
   ]
  },
  {
   "cell_type": "code",
   "execution_count": 9,
   "id": "c358a265",
   "metadata": {},
   "outputs": [],
   "source": [
    "class Detector:\n",
    "    def __init__(self, model_type=\"OD\"):\n",
    "        self.cfg = get_cfg()\n",
    "        \n",
    "        #Load model config and pretrained model\n",
    "        # Defines whether to do object detection/ segmentation\n",
    "        if model_type== \"OD\": #object detection\n",
    "            self.cfg.merge_from_file(model_zoo.get_config_file(\"COCO-Detection/faster_rcnn_R_101_FPN_3x.yaml\"))\n",
    "            self.cfg.MODEL.WEIGHTS = model_zoo.get_checkpoint_url(\"COCO-Detection/faster_rcnn_R_101_FPN_3x.yaml\")\n",
    "        \n",
    "        if model_type == \"IS\": #instance segmentation\n",
    "            self.cfg.merge_from_file(model_zoo.get_config_file(\"COCO-InstanceSegmentation/mask_rcnn_R_50_FPN_3x.yaml\"))\n",
    "            self.cfg.MODEL.WEIGHTS = model_zoo.get_checkpoint_url(\"COCO-InstanceSegmentation/mask_rcnn_R_50_FPN_3x.yaml\")\n",
    "        \n",
    "        self.cfg.MODEL.ROI_HEADS.SCORE_THRESH_TEST = 0.7\n",
    "        self.cfg.MODEL.DEVICE = \"cuda\" #cpu or cuda\n",
    "        \n",
    "        self.predictor = DefaultPredictor(self.cfg) \n",
    "        \n",
    "    def onImage(self, imagePath):\n",
    "        image = cv2.imread(imagePath)\n",
    "        predictions = self.predictor(image)\n",
    "\n",
    "        viz = Visualizer(image[:, :, ::-1], metadata = MetadataCatalog.get(self.cfg.DATASETS.TRAIN[0]),\n",
    "        scale=1.2) \n",
    "        #instance_mode = ColorMode.IMAGE_BW\n",
    "        output = viz.draw_instance_predictions(predictions[\"instances\"].to(\"cpu\"))\n",
    "\n",
    "        cv2.imshow(\"Results\", output.get_image()[:,:,::-1])\n",
    "        cv2.waitKey(0)\n",
    "                         \n",
    "                         \n",
    "        cv2.imshow(\"image\",image)\n",
    "        cv2.waitKey(0)"
   ]
  },
  {
   "cell_type": "code",
   "execution_count": 12,
   "id": "c1eaa2e8",
   "metadata": {
    "scrolled": false
   },
   "outputs": [],
   "source": [
    "detector = Detector(model_type=\"IS\")"
   ]
  },
  {
   "cell_type": "code",
   "execution_count": 16,
   "id": "4efc50fa",
   "metadata": {
    "scrolled": false
   },
   "outputs": [],
   "source": [
    "detector.onImage(\"image1.jpg\") # Problem: Crashes"
   ]
  },
  {
   "cell_type": "code",
   "execution_count": null,
   "id": "9a9ffb35",
   "metadata": {},
   "outputs": [],
   "source": []
  },
  {
   "cell_type": "code",
   "execution_count": null,
   "id": "44c40ba5",
   "metadata": {},
   "outputs": [],
   "source": []
  }
 ],
 "metadata": {
  "kernelspec": {
   "display_name": "Python 3 (ipykernel)",
   "language": "python",
   "name": "python3"
  },
  "language_info": {
   "codemirror_mode": {
    "name": "ipython",
    "version": 3
   },
   "file_extension": ".py",
   "mimetype": "text/x-python",
   "name": "python",
   "nbconvert_exporter": "python",
   "pygments_lexer": "ipython3",
   "version": "3.8.13"
  }
 },
 "nbformat": 4,
 "nbformat_minor": 5
}
